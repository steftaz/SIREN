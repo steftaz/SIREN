{
 "cells": [
  {
   "cell_type": "markdown",
   "metadata": {
    "id": "amyVFi8oVNfT"
   },
   "source": [
    "# Siren Exploration\n",
    "\n",
    "This is a colab to explore properties of the Siren MLP, proposed in our work [Implicit Neural Activations with Periodic Activation Functions](https://vsitzmann.github.io/siren).\n",
    "\n",
    "\n",
    "We will first implement a streamlined version of Siren for fast experimentation. This lacks the code to easily do baseline comparisons - please refer to the main code for that - but will greatly simplify the code!\n",
    "\n",
    "**Make sure that you have enabled the GPU under Edit -> Notebook Settings!**\n",
    "\n",
    "We will then reproduce the following results from the paper:\n",
    "* [Fitting an image](#section_1)\n",
    "* [Fitting an audio signal](#section_2)\n",
    "* [Solving Poisson's equation](#section_3)\n",
    "* [Initialization scheme & distribution of activations](#activations)\n",
    "* [Distribution of activations is shift-invariant](#shift_invariance)\n",
    "\n",
    "We will also explore Siren's [behavior outside of the training range](#out_of_range).\n",
    "\n",
    "Let's go! First, some imports, and a function to quickly generate coordinate grids."
   ]
  },
  {
   "cell_type": "code",
   "metadata": {
    "id": "yW-FOiG3VNfX",
    "ExecuteTime": {
     "end_time": "2025-03-24T14:25:58.708107Z",
     "start_time": "2025-03-24T14:25:51.970652Z"
    }
   },
   "source": [
    "import torch\n",
    "from torch import nn\n",
    "import torch.nn.functional as F\n",
    "from torch.utils.data import DataLoader, Dataset\n",
    "import os\n",
    "\n",
    "from PIL import Image\n",
    "from torchvision.transforms import Resize, Compose, ToTensor, Normalize\n",
    "import numpy as np\n",
    "import skimage\n",
    "import matplotlib.pyplot as plt\n",
    "\n",
    "import time\n",
    "\n",
    "def get_mgrid(sidelen, dim=2):\n",
    "    '''Generates a flattened grid of (x,y,...) coordinates in a range of -1 to 1.\n",
    "    sidelen: int\n",
    "    dim: int'''\n",
    "    tensors = tuple(dim * [torch.linspace(-1, 1, steps=sidelen)])\n",
    "    mgrid = torch.stack(torch.meshgrid(*tensors), dim=-1)\n",
    "    mgrid = mgrid.reshape(-1, dim)\n",
    "    return mgrid"
   ],
   "outputs": [],
   "execution_count": 1
  },
  {
   "cell_type": "markdown",
   "metadata": {
    "id": "gGYBNuX1VNfZ"
   },
   "source": [
    "Now, we code up the sine layer, which will be the basic building block of SIREN. This is a much more concise implementation than the one in the main code, as here, we aren't concerned with the baseline comparisons."
   ]
  },
  {
   "cell_type": "code",
   "metadata": {
    "id": "82ps3KucVNfa",
    "ExecuteTime": {
     "end_time": "2025-03-24T14:25:58.720313Z",
     "start_time": "2025-03-24T14:25:58.713157Z"
    }
   },
   "source": [
    "class SineLayer(nn.Module):\n",
    "    # See paper sec. 3.2, final paragraph, and supplement Sec. 1.5 for discussion of omega_0.\n",
    "\n",
    "    # If is_first=True, omega_0 is a frequency factor which simply multiplies the activations before the\n",
    "    # nonlinearity. Different signals may require different omega_0 in the first layer - this is a\n",
    "    # hyperparameter.\n",
    "\n",
    "    # If is_first=False, then the weights will be divided by omega_0 so as to keep the magnitude of\n",
    "    # activations constant, but boost gradients to the weight matrix (see supplement Sec. 1.5)\n",
    "\n",
    "    def __init__(self, in_features, out_features, bias=True,\n",
    "                 is_first=False, omega_0=30):\n",
    "        super().__init__()\n",
    "        self.omega_0 = omega_0\n",
    "        self.is_first = is_first\n",
    "\n",
    "        self.in_features = in_features\n",
    "        self.linear = nn.Linear(in_features, out_features, bias=bias)\n",
    "\n",
    "        self.init_weights()\n",
    "\n",
    "    def init_weights(self):\n",
    "        with torch.no_grad():\n",
    "            if self.is_first:\n",
    "                self.linear.weight.uniform_(-1 / self.in_features,\n",
    "                                             1 / self.in_features)\n",
    "            else:\n",
    "                self.linear.weight.uniform_(-np.sqrt(6 / self.in_features) / self.omega_0,\n",
    "                                             np.sqrt(6 / self.in_features) / self.omega_0)\n",
    "\n",
    "    def forward(self, input):\n",
    "        return torch.sin(self.omega_0 * self.linear(input))\n",
    "\n",
    "    def forward_with_intermediate(self, input):\n",
    "        # For visualization of activation distributions\n",
    "        intermediate = self.omega_0 * self.linear(input)\n",
    "        return torch.sin(intermediate), intermediate\n",
    "\n",
    "\n",
    "class Siren(nn.Module):\n",
    "    def __init__(self, in_features, hidden_features, hidden_layers, out_features, outermost_linear=False,\n",
    "                 first_omega_0=30, hidden_omega_0=30.):\n",
    "        super().__init__()\n",
    "\n",
    "        self.net = []\n",
    "        self.net.append(SineLayer(in_features, hidden_features,\n",
    "                                  is_first=True, omega_0=first_omega_0))\n",
    "\n",
    "        for i in range(hidden_layers):\n",
    "            self.net.append(SineLayer(hidden_features, hidden_features,\n",
    "                                      is_first=False, omega_0=hidden_omega_0))\n",
    "\n",
    "        if outermost_linear:\n",
    "            final_linear = nn.Linear(hidden_features, out_features)\n",
    "\n",
    "            with torch.no_grad():\n",
    "                final_linear.weight.uniform_(-np.sqrt(6 / hidden_features) / hidden_omega_0,\n",
    "                                              np.sqrt(6 / hidden_features) / hidden_omega_0)\n",
    "\n",
    "            self.net.append(final_linear)\n",
    "        else:\n",
    "            self.net.append(SineLayer(hidden_features, out_features,\n",
    "                                      is_first=False, omega_0=hidden_omega_0))\n",
    "\n",
    "        self.net = nn.Sequential(*self.net)\n",
    "\n",
    "    def forward(self, coords):\n",
    "        coords = coords.clone().detach().requires_grad_(True) # allows to take derivative w.r.t. input\n",
    "        output = self.net(coords)\n",
    "        return output, coords\n",
    "\n",
    "    def forward_with_activations(self, coords, retain_grad=False):\n",
    "        '''Returns not only model output, but also intermediate activations.\n",
    "        Only used for visualizing activations later!'''\n",
    "        activations = OrderedDict()\n",
    "\n",
    "        activation_count = 0\n",
    "        x = coords.clone().detach().requires_grad_(True)\n",
    "        activations['input'] = x\n",
    "        for i, layer in enumerate(self.net):\n",
    "            if isinstance(layer, SineLayer):\n",
    "                x, intermed = layer.forward_with_intermediate(x)\n",
    "\n",
    "                if retain_grad:\n",
    "                    x.retain_grad()\n",
    "                    intermed.retain_grad()\n",
    "\n",
    "                activations['_'.join((str(layer.__class__), \"%d\" % activation_count))] = intermed\n",
    "                activation_count += 1\n",
    "            else:\n",
    "                x = layer(x)\n",
    "\n",
    "                if retain_grad:\n",
    "                    x.retain_grad()\n",
    "\n",
    "            activations['_'.join((str(layer.__class__), \"%d\" % activation_count))] = x\n",
    "            activation_count += 1\n",
    "\n",
    "        return activations"
   ],
   "outputs": [],
   "execution_count": 2
  },
  {
   "cell_type": "markdown",
   "metadata": {
    "id": "_a7po5huVNfa"
   },
   "source": [
    "And finally, differential operators that allow us to leverage autograd to compute gradients, the laplacian, etc."
   ]
  },
  {
   "cell_type": "code",
   "metadata": {
    "id": "rcsfZ-ouVNfa",
    "ExecuteTime": {
     "end_time": "2025-03-24T14:25:59.893460Z",
     "start_time": "2025-03-24T14:25:59.889484Z"
    }
   },
   "source": [
    "def laplace(y, x):\n",
    "    grad = gradient(y, x)\n",
    "    return divergence(grad, x)\n",
    "\n",
    "\n",
    "def divergence(y, x):\n",
    "    div = 0.\n",
    "    for i in range(y.shape[-1]):\n",
    "        div += torch.autograd.grad(y[..., i], x, torch.ones_like(y[..., i]), create_graph=True)[0][..., i:i+1]\n",
    "    return div\n",
    "\n",
    "\n",
    "def gradient(y, x, grad_outputs=None):\n",
    "    if grad_outputs is None:\n",
    "        grad_outputs = torch.ones_like(y)\n",
    "    grad = torch.autograd.grad(y, [x], grad_outputs=grad_outputs, create_graph=True)[0]\n",
    "    return grad"
   ],
   "outputs": [],
   "execution_count": 3
  },
  {
   "cell_type": "markdown",
   "metadata": {
    "id": "q_gpkriXVNfb"
   },
   "source": [
    "# Experiments\n",
    "\n",
    "For the image fitting and poisson experiments, we'll use the classic cameraman image."
   ]
  },
  {
   "cell_type": "code",
   "metadata": {
    "id": "XF2dknPUVNfb",
    "ExecuteTime": {
     "end_time": "2025-03-24T14:25:59.905307Z",
     "start_time": "2025-03-24T14:25:59.901142Z"
    }
   },
   "source": [
    "def get_cameraman_tensor(sidelength):\n",
    "    img = Image.fromarray(skimage.data.camera())\n",
    "    transform = Compose([\n",
    "        Resize(sidelength),\n",
    "        ToTensor(),\n",
    "        Normalize(torch.Tensor([0.5]), torch.Tensor([0.5]))\n",
    "    ])\n",
    "    img = transform(img)\n",
    "    return img"
   ],
   "outputs": [],
   "execution_count": 4
  },
  {
   "cell_type": "markdown",
   "metadata": {
    "id": "6dU_qr-kVNfc"
   },
   "source": [
    "<a id='section_1'></a>\n",
    "## Fitting an image\n",
    "\n",
    "First, let's simply fit that image!\n",
    "\n",
    "We seek to parameterize a greyscale image $f(x)$ with pixel coordinates $x$ with a SIREN $\\Phi(x)$.\n",
    "\n",
    "That is we seek the function $\\Phi$ such that:\n",
    "$\\mathcal{L}=\\int_{\\Omega} \\lVert \\Phi(\\mathbf{x}) - f(\\mathbf{x}) \\rVert\\mathrm{d}\\mathbf{x}$\n",
    " is minimized, in which $\\Omega$ is the domain of the image.\n",
    "\n",
    "We write a little datast that does nothing except calculating per-pixel coordinates:"
   ]
  },
  {
   "cell_type": "code",
   "metadata": {
    "id": "N10lssaUVNfc",
    "ExecuteTime": {
     "end_time": "2025-03-24T14:25:59.933728Z",
     "start_time": "2025-03-24T14:25:59.928494Z"
    }
   },
   "source": [
    "class ImageFitting(Dataset):\n",
    "    def __init__(self, sidelength):\n",
    "        super().__init__()\n",
    "        img = get_cameraman_tensor(sidelength)\n",
    "        self.pixels = img.permute(1, 2, 0).view(-1, 1)\n",
    "        self.coords = get_mgrid(sidelength, 2)\n",
    "\n",
    "    def __len__(self):\n",
    "        return 1\n",
    "\n",
    "    def __getitem__(self, idx):\n",
    "        if idx > 0: raise IndexError\n",
    "\n",
    "        return self.coords, self.pixels"
   ],
   "outputs": [],
   "execution_count": 5
  },
  {
   "cell_type": "markdown",
   "metadata": {
    "pycharm": {
     "name": "#%% md\n"
    },
    "id": "0kgSqfJbVNfc"
   },
   "source": [
    "Let's instantiate the dataset and our Siren. As pixel coordinates are 2D, the siren has 2 input features, and since the image is grayscale, it has one output channel."
   ]
  },
  {
   "cell_type": "code",
   "metadata": {
    "id": "mU6eIrowVNfc",
    "ExecuteTime": {
     "end_time": "2025-03-24T14:26:10.521317Z",
     "start_time": "2025-03-24T14:25:59.943567Z"
    }
   },
   "source": [
    "cameraman = ImageFitting(256)\n",
    "dataloader = DataLoader(cameraman, batch_size=1, pin_memory=True, num_workers=0)\n",
    "\n",
    "img_siren = Siren(in_features=2, out_features=1, hidden_features=256,\n",
    "                  hidden_layers=3, outermost_linear=True)\n",
    "img_siren.cuda()"
   ],
   "outputs": [
    {
     "name": "stderr",
     "output_type": "stream",
     "text": [
      "C:\\Users\\stevenT\\PycharmProjects\\SIREN\\.venv\\Lib\\site-packages\\torch\\functional.py:539: UserWarning: torch.meshgrid: in an upcoming release, it will be required to pass the indexing argument. (Triggered internally at C:\\actions-runner\\_work\\pytorch\\pytorch\\pytorch\\aten\\src\\ATen\\native\\TensorShape.cpp:3638.)\n",
      "  return _VF.meshgrid(tensors, **kwargs)  # type: ignore[attr-defined]\n"
     ]
    },
    {
     "data": {
      "text/plain": [
       "Siren(\n",
       "  (net): Sequential(\n",
       "    (0): SineLayer(\n",
       "      (linear): Linear(in_features=2, out_features=256, bias=True)\n",
       "    )\n",
       "    (1): SineLayer(\n",
       "      (linear): Linear(in_features=256, out_features=256, bias=True)\n",
       "    )\n",
       "    (2): SineLayer(\n",
       "      (linear): Linear(in_features=256, out_features=256, bias=True)\n",
       "    )\n",
       "    (3): SineLayer(\n",
       "      (linear): Linear(in_features=256, out_features=256, bias=True)\n",
       "    )\n",
       "    (4): Linear(in_features=256, out_features=1, bias=True)\n",
       "  )\n",
       ")"
      ]
     },
     "execution_count": 6,
     "metadata": {},
     "output_type": "execute_result"
    }
   ],
   "execution_count": 6
  },
  {
   "cell_type": "markdown",
   "metadata": {
    "id": "tAyD-3HeVNfd"
   },
   "source": [
    "We now fit Siren in a simple training loop. Within only hundreds of iterations, the image and its gradients are approximated well."
   ]
  },
  {
   "cell_type": "code",
   "metadata": {
    "id": "4y4GNJ3tVNfd",
    "ExecuteTime": {
     "end_time": "2025-03-24T14:26:10.570504Z",
     "start_time": "2025-03-24T14:26:10.567666Z"
    }
   },
   "source": [
    "# import wandb\n",
    "# wandb.login()\n",
    "#\n",
    "\n",
    "#\n",
    "# epochs = 500 # Since the whole image is our dataset, this just means 500 gradient descent steps.\n",
    "# steps_til_summary = 10\n",
    "# learning_rate = 1e-4\n",
    "#\n",
    "# run = wandb.init(\n",
    "#     project=\"SIREN_tryout2\",\n",
    "#     config={\n",
    "#         \"epochs\": epochs,\n",
    "#         \"learning rate\": learning_rate,\n",
    "#     },\n",
    "# )\n",
    "#\n",
    "# optim = torch.optim.Adam(lr=learning_rate, params=img_siren.parameters())\n",
    "#\n",
    "# model_input, ground_truth = next(iter(dataloader))\n",
    "# model_input, ground_truth = model_input.cuda(), ground_truth.cuda()\n",
    "#\n",
    "# for step in range(epochs):\n",
    "#     model_output, coords = img_siren(model_input)\n",
    "#     loss = ((model_output - ground_truth)**2).mean()\n",
    "#\n",
    "#     if not step % steps_til_summary:\n",
    "#         print(\"Step %d, Total loss %0.6f\" % (step, loss))\n",
    "#         img_grad = gradient(model_output, coords)\n",
    "#         img_laplacian = laplace(model_output, coords)\n",
    "#\n",
    "#         fig, axes = plt.subplots(1,3, figsize=(18,6))\n",
    "#         axes[0].imshow(model_output.cpu().view(256,256).detach().numpy())\n",
    "#         axes[1].imshow(img_grad.norm(dim=-1).cpu().view(256,256).detach().numpy())\n",
    "#         axes[2].imshow(img_laplacian.cpu().view(256,256).detach().numpy())\n",
    "#         plt.show()\n",
    "#\n",
    "#     optim.zero_grad()\n",
    "#     loss.backward()\n",
    "#     optim.step()\n",
    "#\n",
    "#     run.log({\n",
    "#         \"loss\": loss,\n",
    "#         \"mse\": mse(ground_truth, model_output),\n",
    "#         \"psnr\": psnr(ground_truth, model_output),\n",
    "#     })\n",
    "# run.finish()"
   ],
   "outputs": [],
   "execution_count": 7
  },
  {
   "metadata": {
    "ExecuteTime": {
     "end_time": "2025-03-24T14:31:47.047846Z",
     "start_time": "2025-03-24T14:28:45.634717Z"
    }
   },
   "cell_type": "code",
   "source": [
    "import wandb\n",
    "\n",
    "def psnr(im1, im2, max_pixel_value=1):\n",
    "    return 20 * torch.log10(max_pixel_value / mse(im1, im2))\n",
    "\n",
    "def mse(im1, im2):\n",
    "    return F.mse_loss(im1, im2)\n",
    "\n",
    "wandb.login()\n",
    "\n",
    "epochs = 500\n",
    "learning_rate = 1e-4\n",
    "\n",
    "\n",
    "device = torch.device(\"cuda\" if torch.cuda.is_available() else \"cpu\")\n",
    "model_input, ground_truth = next(iter(dataloader))\n",
    "model_input, ground_truth = model_input.to(device), ground_truth.to(device)\n",
    "\n",
    "for omega in [10, 20, 30, 40]:\n",
    "    run = wandb.init(\n",
    "        project=\"SIREN_omegas\",\n",
    "        name=f\"SIREN_omegas_{omega}\",\n",
    "        config={\n",
    "            \"epochs\": epochs,\n",
    "            \"learning rate\": learning_rate,\n",
    "            \"omega\": omega,\n",
    "        },\n",
    "    )\n",
    "\n",
    "    model = Siren(in_features=2, out_features=1, hidden_features=256,\n",
    "                  hidden_layers=3, outermost_linear=True,  hidden_omega_0=omega, first_omega_0=omega).to(device)\n",
    "\n",
    "    optim = torch.optim.Adam(lr=learning_rate, params=model.parameters())\n",
    "\n",
    "    for epoch in range(epochs):\n",
    "        model_output, coords = model(model_input)\n",
    "\n",
    "        loss = mse(ground_truth, model_output)\n",
    "\n",
    "        optim.zero_grad()\n",
    "        loss.backward()\n",
    "        optim.step()\n",
    "\n",
    "        run.log({\n",
    "            \"loss\": loss,\n",
    "            \"mse\": mse(ground_truth, model_output),\n",
    "            \"psnr\": psnr(ground_truth, model_output),\n",
    "        })\n",
    "\n",
    "        if not epoch % 10:\n",
    "            print(f\"Epoch {epoch}: loss = {mse(ground_truth, model_output):.4f}, psnr = {psnr(ground_truth, model_output):.4f}\")\n",
    "\n",
    "    run.finish()\n",
    "\n"
   ],
   "outputs": [
    {
     "data": {
      "text/plain": [
       "<IPython.core.display.HTML object>"
      ],
      "text/html": [
       "Tracking run with wandb version 0.19.8"
      ]
     },
     "metadata": {},
     "output_type": "display_data"
    },
    {
     "data": {
      "text/plain": [
       "<IPython.core.display.HTML object>"
      ],
      "text/html": [
       "Run data is saved locally in <code>C:\\Users\\stevenT\\PycharmProjects\\SIREN\\explore_inr\\wandb\\run-20250324_152845-vyp6erid</code>"
      ]
     },
     "metadata": {},
     "output_type": "display_data"
    },
    {
     "data": {
      "text/plain": [
       "<IPython.core.display.HTML object>"
      ],
      "text/html": [
       "Syncing run <strong><a href='https://wandb.ai/steftaz-universiteit-twente/SIREN_omegas/runs/vyp6erid' target=\"_blank\">SIREN_omegas_10</a></strong> to <a href='https://wandb.ai/steftaz-universiteit-twente/SIREN_omegas' target=\"_blank\">Weights & Biases</a> (<a href='https://wandb.me/developer-guide' target=\"_blank\">docs</a>)<br>"
      ]
     },
     "metadata": {},
     "output_type": "display_data"
    },
    {
     "data": {
      "text/plain": [
       "<IPython.core.display.HTML object>"
      ],
      "text/html": [
       " View project at <a href='https://wandb.ai/steftaz-universiteit-twente/SIREN_omegas' target=\"_blank\">https://wandb.ai/steftaz-universiteit-twente/SIREN_omegas</a>"
      ]
     },
     "metadata": {},
     "output_type": "display_data"
    },
    {
     "data": {
      "text/plain": [
       "<IPython.core.display.HTML object>"
      ],
      "text/html": [
       " View run at <a href='https://wandb.ai/steftaz-universiteit-twente/SIREN_omegas/runs/vyp6erid' target=\"_blank\">https://wandb.ai/steftaz-universiteit-twente/SIREN_omegas/runs/vyp6erid</a>"
      ]
     },
     "metadata": {},
     "output_type": "display_data"
    },
    {
     "name": "stdout",
     "output_type": "stream",
     "text": [
      "Epoch 0: loss = 0.3268, psnr = 9.7155\n",
      "Epoch 10: loss = 0.0555, psnr = 25.1104\n",
      "Epoch 20: loss = 0.0427, psnr = 27.3993\n",
      "Epoch 30: loss = 0.0358, psnr = 28.9305\n",
      "Epoch 40: loss = 0.0322, psnr = 29.8296\n",
      "Epoch 50: loss = 0.0302, psnr = 30.4035\n",
      "Epoch 60: loss = 0.0285, psnr = 30.9109\n",
      "Epoch 70: loss = 0.0271, psnr = 31.3418\n",
      "Epoch 80: loss = 0.0259, psnr = 31.7243\n",
      "Epoch 90: loss = 0.0249, psnr = 32.0660\n",
      "Epoch 100: loss = 0.0241, psnr = 32.3746\n",
      "Epoch 110: loss = 0.0233, psnr = 32.6580\n",
      "Epoch 120: loss = 0.0226, psnr = 32.9249\n",
      "Epoch 130: loss = 0.0219, psnr = 33.1803\n",
      "Epoch 140: loss = 0.0213, psnr = 33.4265\n",
      "Epoch 150: loss = 0.0207, psnr = 33.6635\n",
      "Epoch 160: loss = 0.0202, psnr = 33.8904\n",
      "Epoch 170: loss = 0.0197, psnr = 34.1066\n",
      "Epoch 180: loss = 0.0192, psnr = 34.3121\n",
      "Epoch 190: loss = 0.0188, psnr = 34.5076\n",
      "Epoch 200: loss = 0.0184, psnr = 34.6945\n",
      "Epoch 210: loss = 0.0180, psnr = 34.8745\n",
      "Epoch 220: loss = 0.0177, psnr = 35.0495\n",
      "Epoch 230: loss = 0.0173, psnr = 35.2214\n",
      "Epoch 240: loss = 0.0170, psnr = 35.3914\n",
      "Epoch 250: loss = 0.0167, psnr = 35.5599\n",
      "Epoch 260: loss = 0.0164, psnr = 35.7268\n",
      "Epoch 270: loss = 0.0160, psnr = 35.8919\n",
      "Epoch 280: loss = 0.0157, psnr = 36.0550\n",
      "Epoch 290: loss = 0.0155, psnr = 36.2164\n",
      "Epoch 300: loss = 0.0152, psnr = 36.3762\n",
      "Epoch 310: loss = 0.0149, psnr = 36.5349\n",
      "Epoch 320: loss = 0.0146, psnr = 36.6924\n",
      "Epoch 330: loss = 0.0144, psnr = 36.8490\n",
      "Epoch 340: loss = 0.0141, psnr = 37.0047\n",
      "Epoch 350: loss = 0.0139, psnr = 37.1597\n",
      "Epoch 360: loss = 0.0136, psnr = 37.3142\n",
      "Epoch 370: loss = 0.0134, psnr = 37.4686\n",
      "Epoch 380: loss = 0.0131, psnr = 37.6232\n",
      "Epoch 390: loss = 0.0129, psnr = 37.7784\n",
      "Epoch 400: loss = 0.0127, psnr = 37.9347\n",
      "Epoch 410: loss = 0.0125, psnr = 38.0924\n",
      "Epoch 420: loss = 0.0122, psnr = 38.2520\n",
      "Epoch 430: loss = 0.0120, psnr = 38.4136\n",
      "Epoch 440: loss = 0.0118, psnr = 38.5773\n",
      "Epoch 450: loss = 0.0116, psnr = 38.7429\n",
      "Epoch 460: loss = 0.0113, psnr = 38.9100\n",
      "Epoch 470: loss = 0.0111, psnr = 39.0784\n",
      "Epoch 480: loss = 0.0109, psnr = 39.2478\n",
      "Epoch 490: loss = 0.0107, psnr = 39.4184\n"
     ]
    },
    {
     "data": {
      "text/plain": [
       "<IPython.core.display.HTML object>"
      ],
      "text/html": []
     },
     "metadata": {},
     "output_type": "display_data"
    },
    {
     "data": {
      "text/plain": [
       "<IPython.core.display.HTML object>"
      ],
      "text/html": [
       "<br>    <style><br>        .wandb-row {<br>            display: flex;<br>            flex-direction: row;<br>            flex-wrap: wrap;<br>            justify-content: flex-start;<br>            width: 100%;<br>        }<br>        .wandb-col {<br>            display: flex;<br>            flex-direction: column;<br>            flex-basis: 100%;<br>            flex: 1;<br>            padding: 10px;<br>        }<br>    </style><br><div class=\"wandb-row\"><div class=\"wandb-col\"><h3>Run history:</h3><br/><table class=\"wandb\"><tr><td>loss</td><td>█▂▂▂▂▂▁▁▁▁▁▁▁▁▁▁▁▁▁▁▁▁▁▁▁▁▁▁▁▁▁▁▁▁▁▁▁▁▁▁</td></tr><tr><td>mse</td><td>█▄▂▂▂▂▂▂▂▂▂▂▁▁▁▁▁▁▁▁▁▁▁▁▁▁▁▁▁▁▁▁▁▁▁▁▁▁▁▁</td></tr><tr><td>psnr</td><td>▁▂▃▃▄▅▅▅▅▅▆▆▆▆▆▆▆▆▆▆▇▇▇▇▇▇▇▇▇▇▇▇████████</td></tr></table><br/></div><div class=\"wandb-col\"><h3>Run summary:</h3><br/><table class=\"wandb\"><tr><td>loss</td><td>0.0105</td></tr><tr><td>mse</td><td>0.0105</td></tr><tr><td>psnr</td><td>39.57323</td></tr></table><br/></div></div>"
      ]
     },
     "metadata": {},
     "output_type": "display_data"
    },
    {
     "data": {
      "text/plain": [
       "<IPython.core.display.HTML object>"
      ],
      "text/html": [
       " View run <strong style=\"color:#cdcd00\">SIREN_omegas_10</strong> at: <a href='https://wandb.ai/steftaz-universiteit-twente/SIREN_omegas/runs/vyp6erid' target=\"_blank\">https://wandb.ai/steftaz-universiteit-twente/SIREN_omegas/runs/vyp6erid</a><br> View project at: <a href='https://wandb.ai/steftaz-universiteit-twente/SIREN_omegas' target=\"_blank\">https://wandb.ai/steftaz-universiteit-twente/SIREN_omegas</a><br>Synced 5 W&B file(s), 0 media file(s), 0 artifact file(s) and 0 other file(s)"
      ]
     },
     "metadata": {},
     "output_type": "display_data"
    },
    {
     "data": {
      "text/plain": [
       "<IPython.core.display.HTML object>"
      ],
      "text/html": [
       "Find logs at: <code>.\\wandb\\run-20250324_152845-vyp6erid\\logs</code>"
      ]
     },
     "metadata": {},
     "output_type": "display_data"
    },
    {
     "data": {
      "text/plain": [
       "<IPython.core.display.HTML object>"
      ],
      "text/html": [
       "Tracking run with wandb version 0.19.8"
      ]
     },
     "metadata": {},
     "output_type": "display_data"
    },
    {
     "data": {
      "text/plain": [
       "<IPython.core.display.HTML object>"
      ],
      "text/html": [
       "Run data is saved locally in <code>C:\\Users\\stevenT\\PycharmProjects\\SIREN\\explore_inr\\wandb\\run-20250324_152928-zlc5owqg</code>"
      ]
     },
     "metadata": {},
     "output_type": "display_data"
    },
    {
     "data": {
      "text/plain": [
       "<IPython.core.display.HTML object>"
      ],
      "text/html": [
       "Syncing run <strong><a href='https://wandb.ai/steftaz-universiteit-twente/SIREN_omegas/runs/zlc5owqg' target=\"_blank\">SIREN_omegas_20</a></strong> to <a href='https://wandb.ai/steftaz-universiteit-twente/SIREN_omegas' target=\"_blank\">Weights & Biases</a> (<a href='https://wandb.me/developer-guide' target=\"_blank\">docs</a>)<br>"
      ]
     },
     "metadata": {},
     "output_type": "display_data"
    },
    {
     "data": {
      "text/plain": [
       "<IPython.core.display.HTML object>"
      ],
      "text/html": [
       " View project at <a href='https://wandb.ai/steftaz-universiteit-twente/SIREN_omegas' target=\"_blank\">https://wandb.ai/steftaz-universiteit-twente/SIREN_omegas</a>"
      ]
     },
     "metadata": {},
     "output_type": "display_data"
    },
    {
     "data": {
      "text/plain": [
       "<IPython.core.display.HTML object>"
      ],
      "text/html": [
       " View run at <a href='https://wandb.ai/steftaz-universiteit-twente/SIREN_omegas/runs/zlc5owqg' target=\"_blank\">https://wandb.ai/steftaz-universiteit-twente/SIREN_omegas/runs/zlc5owqg</a>"
      ]
     },
     "metadata": {},
     "output_type": "display_data"
    },
    {
     "name": "stdout",
     "output_type": "stream",
     "text": [
      "Epoch 0: loss = 0.3246, psnr = 9.7736\n",
      "Epoch 10: loss = 0.0423, psnr = 27.4659\n",
      "Epoch 20: loss = 0.0269, psnr = 31.4202\n",
      "Epoch 30: loss = 0.0218, psnr = 33.2338\n",
      "Epoch 40: loss = 0.0189, psnr = 34.4593\n",
      "Epoch 50: loss = 0.0172, psnr = 35.2951\n",
      "Epoch 60: loss = 0.0158, psnr = 36.0044\n",
      "Epoch 70: loss = 0.0148, psnr = 36.5893\n",
      "Epoch 80: loss = 0.0140, psnr = 37.1045\n",
      "Epoch 90: loss = 0.0132, psnr = 37.5732\n",
      "Epoch 100: loss = 0.0126, psnr = 38.0086\n",
      "Epoch 110: loss = 0.0120, psnr = 38.4269\n",
      "Epoch 120: loss = 0.0114, psnr = 38.8399\n",
      "Epoch 130: loss = 0.0109, psnr = 39.2541\n",
      "Epoch 140: loss = 0.0104, psnr = 39.6728\n",
      "Epoch 150: loss = 0.0099, psnr = 40.0993\n",
      "Epoch 160: loss = 0.0094, psnr = 40.5369\n",
      "Epoch 170: loss = 0.0089, psnr = 40.9870\n",
      "Epoch 180: loss = 0.0085, psnr = 41.4494\n",
      "Epoch 190: loss = 0.0080, psnr = 41.9209\n",
      "Epoch 200: loss = 0.0076, psnr = 42.3934\n",
      "Epoch 210: loss = 0.0072, psnr = 42.8610\n",
      "Epoch 220: loss = 0.0068, psnr = 43.3224\n",
      "Epoch 230: loss = 0.0065, psnr = 43.7816\n",
      "Epoch 240: loss = 0.0061, psnr = 44.2417\n",
      "Epoch 250: loss = 0.0058, psnr = 44.7078\n",
      "Epoch 260: loss = 0.0055, psnr = 45.1870\n",
      "Epoch 270: loss = 0.0052, psnr = 45.6837\n",
      "Epoch 280: loss = 0.0049, psnr = 46.1962\n",
      "Epoch 290: loss = 0.0046, psnr = 46.7177\n",
      "Epoch 300: loss = 0.0043, psnr = 47.2383\n",
      "Epoch 310: loss = 0.0041, psnr = 47.7503\n",
      "Epoch 320: loss = 0.0039, psnr = 48.2519\n",
      "Epoch 330: loss = 0.0037, psnr = 48.7443\n",
      "Epoch 340: loss = 0.0035, psnr = 49.2231\n",
      "Epoch 350: loss = 0.0033, psnr = 49.6838\n",
      "Epoch 360: loss = 0.0031, psnr = 50.1271\n",
      "Epoch 370: loss = 0.0030, psnr = 50.5533\n",
      "Epoch 380: loss = 0.0028, psnr = 50.9685\n",
      "Epoch 390: loss = 0.0027, psnr = 51.3769\n",
      "Epoch 400: loss = 0.0026, psnr = 51.7798\n",
      "Epoch 410: loss = 0.0025, psnr = 52.1786\n",
      "Epoch 420: loss = 0.0024, psnr = 52.5744\n",
      "Epoch 430: loss = 0.0022, psnr = 52.9657\n",
      "Epoch 440: loss = 0.0022, psnr = 53.3487\n",
      "Epoch 450: loss = 0.0021, psnr = 53.7202\n",
      "Epoch 460: loss = 0.0020, psnr = 54.0792\n",
      "Epoch 470: loss = 0.0019, psnr = 54.4269\n",
      "Epoch 480: loss = 0.0018, psnr = 54.7647\n",
      "Epoch 490: loss = 0.0018, psnr = 55.0928\n"
     ]
    },
    {
     "data": {
      "text/plain": [
       "<IPython.core.display.HTML object>"
      ],
      "text/html": []
     },
     "metadata": {},
     "output_type": "display_data"
    },
    {
     "data": {
      "text/plain": [
       "<IPython.core.display.HTML object>"
      ],
      "text/html": [
       "<br>    <style><br>        .wandb-row {<br>            display: flex;<br>            flex-direction: row;<br>            flex-wrap: wrap;<br>            justify-content: flex-start;<br>            width: 100%;<br>        }<br>        .wandb-col {<br>            display: flex;<br>            flex-direction: column;<br>            flex-basis: 100%;<br>            flex: 1;<br>            padding: 10px;<br>        }<br>    </style><br><div class=\"wandb-row\"><div class=\"wandb-col\"><h3>Run history:</h3><br/><table class=\"wandb\"><tr><td>loss</td><td>█▇▂▂▂▁▁▁▁▁▁▁▁▁▁▁▁▁▁▁▁▁▁▁▁▁▁▁▁▁▁▁▁▁▁▁▁▁▁▁</td></tr><tr><td>mse</td><td>█▆▆▆▅▄▃▃▃▃▃▂▂▂▂▂▂▂▂▂▁▁▁▁▁▁▁▁▁▁▁▁▁▁▁▁▁▁▁▁</td></tr><tr><td>psnr</td><td>▁▁▂▃▃▃▃▃▃▃▄▄▄▄▄▄▄▅▅▅▅▅▅▅▅▆▆▆▇▇▇▇▇▇▇█████</td></tr></table><br/></div><div class=\"wandb-col\"><h3>Run summary:</h3><br/><table class=\"wandb\"><tr><td>loss</td><td>0.0017</td></tr><tr><td>mse</td><td>0.0017</td></tr><tr><td>psnr</td><td>55.37947</td></tr></table><br/></div></div>"
      ]
     },
     "metadata": {},
     "output_type": "display_data"
    },
    {
     "data": {
      "text/plain": [
       "<IPython.core.display.HTML object>"
      ],
      "text/html": [
       " View run <strong style=\"color:#cdcd00\">SIREN_omegas_20</strong> at: <a href='https://wandb.ai/steftaz-universiteit-twente/SIREN_omegas/runs/zlc5owqg' target=\"_blank\">https://wandb.ai/steftaz-universiteit-twente/SIREN_omegas/runs/zlc5owqg</a><br> View project at: <a href='https://wandb.ai/steftaz-universiteit-twente/SIREN_omegas' target=\"_blank\">https://wandb.ai/steftaz-universiteit-twente/SIREN_omegas</a><br>Synced 5 W&B file(s), 0 media file(s), 0 artifact file(s) and 0 other file(s)"
      ]
     },
     "metadata": {},
     "output_type": "display_data"
    },
    {
     "data": {
      "text/plain": [
       "<IPython.core.display.HTML object>"
      ],
      "text/html": [
       "Find logs at: <code>.\\wandb\\run-20250324_152928-zlc5owqg\\logs</code>"
      ]
     },
     "metadata": {},
     "output_type": "display_data"
    },
    {
     "data": {
      "text/plain": [
       "<IPython.core.display.HTML object>"
      ],
      "text/html": [
       "Tracking run with wandb version 0.19.8"
      ]
     },
     "metadata": {},
     "output_type": "display_data"
    },
    {
     "data": {
      "text/plain": [
       "<IPython.core.display.HTML object>"
      ],
      "text/html": [
       "Run data is saved locally in <code>C:\\Users\\stevenT\\PycharmProjects\\SIREN\\explore_inr\\wandb\\run-20250324_153014-dzg5c5xb</code>"
      ]
     },
     "metadata": {},
     "output_type": "display_data"
    },
    {
     "data": {
      "text/plain": [
       "<IPython.core.display.HTML object>"
      ],
      "text/html": [
       "Syncing run <strong><a href='https://wandb.ai/steftaz-universiteit-twente/SIREN_omegas/runs/dzg5c5xb' target=\"_blank\">SIREN_omegas_30</a></strong> to <a href='https://wandb.ai/steftaz-universiteit-twente/SIREN_omegas' target=\"_blank\">Weights & Biases</a> (<a href='https://wandb.me/developer-guide' target=\"_blank\">docs</a>)<br>"
      ]
     },
     "metadata": {},
     "output_type": "display_data"
    },
    {
     "data": {
      "text/plain": [
       "<IPython.core.display.HTML object>"
      ],
      "text/html": [
       " View project at <a href='https://wandb.ai/steftaz-universiteit-twente/SIREN_omegas' target=\"_blank\">https://wandb.ai/steftaz-universiteit-twente/SIREN_omegas</a>"
      ]
     },
     "metadata": {},
     "output_type": "display_data"
    },
    {
     "data": {
      "text/plain": [
       "<IPython.core.display.HTML object>"
      ],
      "text/html": [
       " View run at <a href='https://wandb.ai/steftaz-universiteit-twente/SIREN_omegas/runs/dzg5c5xb' target=\"_blank\">https://wandb.ai/steftaz-universiteit-twente/SIREN_omegas/runs/dzg5c5xb</a>"
      ]
     },
     "metadata": {},
     "output_type": "display_data"
    },
    {
     "name": "stdout",
     "output_type": "stream",
     "text": [
      "Epoch 0: loss = 0.3226, psnr = 9.8258\n",
      "Epoch 10: loss = 0.0445, psnr = 27.0250\n",
      "Epoch 20: loss = 0.0215, psnr = 33.3659\n",
      "Epoch 30: loss = 0.0162, psnr = 35.8017\n",
      "Epoch 40: loss = 0.0135, psnr = 37.3672\n",
      "Epoch 50: loss = 0.0120, psnr = 38.4302\n",
      "Epoch 60: loss = 0.0109, psnr = 39.2549\n",
      "Epoch 70: loss = 0.0100, psnr = 39.9700\n",
      "Epoch 80: loss = 0.0093, psnr = 40.6273\n",
      "Epoch 90: loss = 0.0087, psnr = 41.2550\n",
      "Epoch 100: loss = 0.0081, psnr = 41.8756\n",
      "Epoch 110: loss = 0.0075, psnr = 42.4985\n",
      "Epoch 120: loss = 0.0070, psnr = 43.1278\n",
      "Epoch 130: loss = 0.0065, psnr = 43.7724\n",
      "Epoch 140: loss = 0.0060, psnr = 44.4449\n",
      "Epoch 150: loss = 0.0055, psnr = 45.1598\n",
      "Epoch 160: loss = 0.0050, psnr = 45.9399\n",
      "Epoch 170: loss = 0.0046, psnr = 46.8027\n",
      "Epoch 180: loss = 0.0041, psnr = 47.6987\n",
      "Epoch 190: loss = 0.0037, psnr = 48.5600\n",
      "Epoch 200: loss = 0.0034, psnr = 49.3554\n",
      "Epoch 210: loss = 0.0031, psnr = 50.0752\n",
      "Epoch 220: loss = 0.0029, psnr = 50.7239\n",
      "Epoch 230: loss = 0.0028, psnr = 50.9246\n",
      "Epoch 240: loss = 0.0026, psnr = 51.7265\n",
      "Epoch 250: loss = 0.0024, psnr = 52.3079\n",
      "Epoch 260: loss = 0.0023, psnr = 52.8467\n",
      "Epoch 270: loss = 0.0022, psnr = 53.3391\n",
      "Epoch 280: loss = 0.0020, psnr = 53.7998\n",
      "Epoch 290: loss = 0.0019, psnr = 54.2364\n",
      "Epoch 300: loss = 0.0019, psnr = 54.6488\n",
      "Epoch 310: loss = 0.0018, psnr = 55.0406\n",
      "Epoch 320: loss = 0.0017, psnr = 55.4126\n",
      "Epoch 330: loss = 0.0016, psnr = 55.7666\n",
      "Epoch 340: loss = 0.0016, psnr = 56.1042\n",
      "Epoch 350: loss = 0.0015, psnr = 56.4267\n",
      "Epoch 360: loss = 0.0015, psnr = 56.7338\n",
      "Epoch 370: loss = 0.0015, psnr = 56.5781\n",
      "Epoch 380: loss = 0.0014, psnr = 57.1710\n",
      "Epoch 390: loss = 0.0013, psnr = 57.5495\n",
      "Epoch 400: loss = 0.0013, psnr = 57.8218\n",
      "Epoch 410: loss = 0.0012, psnr = 58.0976\n",
      "Epoch 420: loss = 0.0012, psnr = 58.3581\n",
      "Epoch 430: loss = 0.0012, psnr = 58.6086\n",
      "Epoch 440: loss = 0.0011, psnr = 58.8528\n",
      "Epoch 450: loss = 0.0011, psnr = 59.0912\n",
      "Epoch 460: loss = 0.0011, psnr = 59.3240\n",
      "Epoch 470: loss = 0.0011, psnr = 59.5518\n",
      "Epoch 480: loss = 0.0010, psnr = 59.7746\n",
      "Epoch 490: loss = 0.0010, psnr = 59.9927\n"
     ]
    },
    {
     "data": {
      "text/plain": [
       "<IPython.core.display.HTML object>"
      ],
      "text/html": []
     },
     "metadata": {},
     "output_type": "display_data"
    },
    {
     "data": {
      "text/plain": [
       "<IPython.core.display.HTML object>"
      ],
      "text/html": [
       "<br>    <style><br>        .wandb-row {<br>            display: flex;<br>            flex-direction: row;<br>            flex-wrap: wrap;<br>            justify-content: flex-start;<br>            width: 100%;<br>        }<br>        .wandb-col {<br>            display: flex;<br>            flex-direction: column;<br>            flex-basis: 100%;<br>            flex: 1;<br>            padding: 10px;<br>        }<br>    </style><br><div class=\"wandb-row\"><div class=\"wandb-col\"><h3>Run history:</h3><br/><table class=\"wandb\"><tr><td>loss</td><td>█▁▁▁▁▁▁▁▁▁▁▁▁▁▁▁▁▁▁▁▁▁▁▁▁▁▁▁▁▁▁▁▁▁▁▁▁▁▁▁</td></tr><tr><td>mse</td><td>█▃▂▂▁▁▁▁▁▁▁▁▁▁▁▁▁▁▁▁▁▁▁▁▁▁▁▁▁▁▁▁▁▁▁▁▁▁▁▁</td></tr><tr><td>psnr</td><td>▁▃▄▅▅▅▅▅▅▆▆▆▆▆▆▆▆▆▆▆▇▇▇▇▇▇▇█████████████</td></tr></table><br/></div><div class=\"wandb-col\"><h3>Run summary:</h3><br/><table class=\"wandb\"><tr><td>loss</td><td>0.00099</td></tr><tr><td>mse</td><td>0.00099</td></tr><tr><td>psnr</td><td>60.12111</td></tr></table><br/></div></div>"
      ]
     },
     "metadata": {},
     "output_type": "display_data"
    },
    {
     "data": {
      "text/plain": [
       "<IPython.core.display.HTML object>"
      ],
      "text/html": [
       " View run <strong style=\"color:#cdcd00\">SIREN_omegas_30</strong> at: <a href='https://wandb.ai/steftaz-universiteit-twente/SIREN_omegas/runs/dzg5c5xb' target=\"_blank\">https://wandb.ai/steftaz-universiteit-twente/SIREN_omegas/runs/dzg5c5xb</a><br> View project at: <a href='https://wandb.ai/steftaz-universiteit-twente/SIREN_omegas' target=\"_blank\">https://wandb.ai/steftaz-universiteit-twente/SIREN_omegas</a><br>Synced 5 W&B file(s), 0 media file(s), 0 artifact file(s) and 0 other file(s)"
      ]
     },
     "metadata": {},
     "output_type": "display_data"
    },
    {
     "data": {
      "text/plain": [
       "<IPython.core.display.HTML object>"
      ],
      "text/html": [
       "Find logs at: <code>.\\wandb\\run-20250324_153014-dzg5c5xb\\logs</code>"
      ]
     },
     "metadata": {},
     "output_type": "display_data"
    },
    {
     "data": {
      "text/plain": [
       "<IPython.core.display.HTML object>"
      ],
      "text/html": [
       "Tracking run with wandb version 0.19.8"
      ]
     },
     "metadata": {},
     "output_type": "display_data"
    },
    {
     "data": {
      "text/plain": [
       "<IPython.core.display.HTML object>"
      ],
      "text/html": [
       "Run data is saved locally in <code>C:\\Users\\stevenT\\PycharmProjects\\SIREN\\explore_inr\\wandb\\run-20250324_153100-aw8zlpkf</code>"
      ]
     },
     "metadata": {},
     "output_type": "display_data"
    },
    {
     "data": {
      "text/plain": [
       "<IPython.core.display.HTML object>"
      ],
      "text/html": [
       "Syncing run <strong><a href='https://wandb.ai/steftaz-universiteit-twente/SIREN_omegas/runs/aw8zlpkf' target=\"_blank\">SIREN_omegas_40</a></strong> to <a href='https://wandb.ai/steftaz-universiteit-twente/SIREN_omegas' target=\"_blank\">Weights & Biases</a> (<a href='https://wandb.me/developer-guide' target=\"_blank\">docs</a>)<br>"
      ]
     },
     "metadata": {},
     "output_type": "display_data"
    },
    {
     "data": {
      "text/plain": [
       "<IPython.core.display.HTML object>"
      ],
      "text/html": [
       " View project at <a href='https://wandb.ai/steftaz-universiteit-twente/SIREN_omegas' target=\"_blank\">https://wandb.ai/steftaz-universiteit-twente/SIREN_omegas</a>"
      ]
     },
     "metadata": {},
     "output_type": "display_data"
    },
    {
     "data": {
      "text/plain": [
       "<IPython.core.display.HTML object>"
      ],
      "text/html": [
       " View run at <a href='https://wandb.ai/steftaz-universiteit-twente/SIREN_omegas/runs/aw8zlpkf' target=\"_blank\">https://wandb.ai/steftaz-universiteit-twente/SIREN_omegas/runs/aw8zlpkf</a>"
      ]
     },
     "metadata": {},
     "output_type": "display_data"
    },
    {
     "name": "stdout",
     "output_type": "stream",
     "text": [
      "Epoch 0: loss = 0.3256, psnr = 9.7452\n",
      "Epoch 10: loss = 0.0724, psnr = 22.8105\n",
      "Epoch 20: loss = 0.0232, psnr = 32.7040\n",
      "Epoch 30: loss = 0.0140, psnr = 37.0583\n",
      "Epoch 40: loss = 0.0110, psnr = 39.1427\n",
      "Epoch 50: loss = 0.0094, psnr = 40.5715\n",
      "Epoch 60: loss = 0.0083, psnr = 41.6300\n",
      "Epoch 70: loss = 0.0075, psnr = 42.5402\n",
      "Epoch 80: loss = 0.0068, psnr = 43.3764\n",
      "Epoch 90: loss = 0.0062, psnr = 44.1766\n",
      "Epoch 100: loss = 0.0057, psnr = 44.9505\n",
      "Epoch 110: loss = 0.0052, psnr = 45.7120\n",
      "Epoch 120: loss = 0.0047, psnr = 46.4774\n",
      "Epoch 130: loss = 0.0043, psnr = 47.2697\n",
      "Epoch 140: loss = 0.0039, psnr = 48.1083\n",
      "Epoch 150: loss = 0.0035, psnr = 49.0118\n",
      "Epoch 160: loss = 0.0032, psnr = 49.9690\n",
      "Epoch 170: loss = 0.0035, psnr = 49.2328\n",
      "Epoch 180: loss = 0.0027, psnr = 51.5333\n",
      "Epoch 190: loss = 0.0024, psnr = 52.5476\n",
      "Epoch 200: loss = 0.0021, psnr = 53.4970\n",
      "Epoch 210: loss = 0.0020, psnr = 54.1580\n",
      "Epoch 220: loss = 0.0018, psnr = 54.8088\n",
      "Epoch 230: loss = 0.0017, psnr = 55.3722\n",
      "Epoch 240: loss = 0.0016, psnr = 55.8873\n",
      "Epoch 250: loss = 0.0015, psnr = 56.3628\n",
      "Epoch 260: loss = 0.0014, psnr = 56.8069\n",
      "Epoch 270: loss = 0.0014, psnr = 57.2249\n",
      "Epoch 280: loss = 0.0013, psnr = 57.6210\n",
      "Epoch 290: loss = 0.0013, psnr = 57.9983\n",
      "Epoch 300: loss = 0.0012, psnr = 58.3590\n",
      "Epoch 310: loss = 0.0012, psnr = 58.7046\n",
      "Epoch 320: loss = 0.0011, psnr = 59.0364\n",
      "Epoch 330: loss = 0.0011, psnr = 59.3553\n",
      "Epoch 340: loss = 0.0010, psnr = 59.6616\n",
      "Epoch 350: loss = 0.0012, psnr = 58.5970\n",
      "Epoch 360: loss = 0.0011, psnr = 59.0725\n",
      "Epoch 370: loss = 0.0010, psnr = 60.0850\n",
      "Epoch 380: loss = 0.0009, psnr = 60.5338\n",
      "Epoch 390: loss = 0.0009, psnr = 60.8796\n",
      "Epoch 400: loss = 0.0009, psnr = 61.1524\n",
      "Epoch 410: loss = 0.0009, psnr = 61.4101\n",
      "Epoch 420: loss = 0.0008, psnr = 61.6627\n",
      "Epoch 430: loss = 0.0008, psnr = 61.8873\n",
      "Epoch 440: loss = 0.0008, psnr = 62.1073\n",
      "Epoch 450: loss = 0.0008, psnr = 62.3192\n",
      "Epoch 460: loss = 0.0007, psnr = 62.5264\n",
      "Epoch 470: loss = 0.0007, psnr = 62.7289\n",
      "Epoch 480: loss = 0.0007, psnr = 62.9272\n",
      "Epoch 490: loss = 0.0007, psnr = 63.1217\n"
     ]
    },
    {
     "data": {
      "text/plain": [
       "<IPython.core.display.HTML object>"
      ],
      "text/html": []
     },
     "metadata": {},
     "output_type": "display_data"
    },
    {
     "data": {
      "text/plain": [
       "<IPython.core.display.HTML object>"
      ],
      "text/html": [
       "<br>    <style><br>        .wandb-row {<br>            display: flex;<br>            flex-direction: row;<br>            flex-wrap: wrap;<br>            justify-content: flex-start;<br>            width: 100%;<br>        }<br>        .wandb-col {<br>            display: flex;<br>            flex-direction: column;<br>            flex-basis: 100%;<br>            flex: 1;<br>            padding: 10px;<br>        }<br>    </style><br><div class=\"wandb-row\"><div class=\"wandb-col\"><h3>Run history:</h3><br/><table class=\"wandb\"><tr><td>loss</td><td>█▃▂▂▁▁▁▁▁▁▁▁▁▁▁▁▁▁▁▁▁▁▁▁▁▁▁▁▁▁▁▁▁▁▁▁▁▁▁▁</td></tr><tr><td>mse</td><td>█▃▃▂▂▂▂▂▂▂▁▁▁▁▁▁▁▁▁▁▁▁▁▁▁▁▁▁▁▁▁▁▁▁▁▁▁▁▁▁</td></tr><tr><td>psnr</td><td>▁▄▅▅▅▅▆▆▆▆▆▆▆▆▇▇▇▇▇▇▇▇██▇███████████████</td></tr></table><br/></div><div class=\"wandb-col\"><h3>Run summary:</h3><br/><table class=\"wandb\"><tr><td>loss</td><td>0.00068</td></tr><tr><td>mse</td><td>0.00068</td></tr><tr><td>psnr</td><td>63.29368</td></tr></table><br/></div></div>"
      ]
     },
     "metadata": {},
     "output_type": "display_data"
    },
    {
     "data": {
      "text/plain": [
       "<IPython.core.display.HTML object>"
      ],
      "text/html": [
       " View run <strong style=\"color:#cdcd00\">SIREN_omegas_40</strong> at: <a href='https://wandb.ai/steftaz-universiteit-twente/SIREN_omegas/runs/aw8zlpkf' target=\"_blank\">https://wandb.ai/steftaz-universiteit-twente/SIREN_omegas/runs/aw8zlpkf</a><br> View project at: <a href='https://wandb.ai/steftaz-universiteit-twente/SIREN_omegas' target=\"_blank\">https://wandb.ai/steftaz-universiteit-twente/SIREN_omegas</a><br>Synced 5 W&B file(s), 0 media file(s), 0 artifact file(s) and 0 other file(s)"
      ]
     },
     "metadata": {},
     "output_type": "display_data"
    },
    {
     "data": {
      "text/plain": [
       "<IPython.core.display.HTML object>"
      ],
      "text/html": [
       "Find logs at: <code>.\\wandb\\run-20250324_153100-aw8zlpkf\\logs</code>"
      ]
     },
     "metadata": {},
     "output_type": "display_data"
    }
   ],
   "execution_count": 11
  },
  {
   "metadata": {},
   "cell_type": "code",
   "outputs": [],
   "execution_count": null,
   "source": ""
  }
 ],
 "metadata": {
  "kernelspec": {
   "display_name": "Python 3",
   "language": "python",
   "name": "python3"
  },
  "language_info": {
   "codemirror_mode": {
    "name": "ipython",
    "version": 3
   },
   "file_extension": ".py",
   "mimetype": "text/x-python",
   "name": "python",
   "nbconvert_exporter": "python",
   "pygments_lexer": "ipython3",
   "version": "3.7.4"
  },
  "pycharm": {
   "stem_cell": {
    "cell_type": "raw",
    "metadata": {
     "collapsed": false
    },
    "source": []
   }
  },
  "colab": {
   "provenance": []
  }
 },
 "nbformat": 4,
 "nbformat_minor": 0
}
